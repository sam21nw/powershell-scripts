{
 "cells": [
  {
   "cell_type": "code",
   "execution_count": 2,
   "metadata": {
    "dotnet_interactive": {
     "language": "pwsh"
    },
    "polyglot_notebook": {
     "kernelName": "pwsh"
    },
    "vscode": {
     "languageId": "polyglot-notebook"
    }
   },
   "outputs": [
    {
     "name": "stdout",
     "output_type": "stream",
     "text": [
      "\n",
      "\u001b[32;1mName Root                               Used (GB) Free (GB)\u001b[0m\n",
      "\u001b[32;1m---- ----                               --------- ---------\u001b[0m\n",
      "C    C:\\                                  116.400   814.300\n",
      "D    D:\\                                   48.200   398.900\n",
      "F    F:\\                                   56.900   408.900\n",
      "G    G:\\                                   11.000     4.000\n",
      "Temp C:\\Users\\sam21\\AppData\\Local\\Temp\\   116.400   814.300\n",
      "\n"
     ]
    }
   ],
   "source": [
    "<#\n",
    ".SYNOPSIS\n",
    "\tLists all drives\n",
    ".DESCRIPTION\n",
    "\tThis PowerShell script lists all local drives as a table.\n",
    ".EXAMPLE\n",
    "\tPS> ./list-drives.ps1\n",
    "\n",
    "\tName Root Used (GB) Free (GB)\n",
    "\t---- ---- --------- ---------\n",
    "\tC    C:\\     6648,1     744,2\n",
    ".LINK\n",
    "\thttps://github.com/fleschutz/PowerShell\n",
    ".NOTES\n",
    "\tAuthor: Markus Fleschutz | License: CC0\n",
    "#>\n",
    "\n",
    "try {\n",
    "\tGet-PSDrive -PSProvider FileSystem | format-table -property Name,Root,@{n=\"Used (GB)\";e={[math]::Round($_.Used/1GB,1)}},@{n=\"Free (GB)\";e={[math]::Round($_.Free/1GB,1)}}\n",
    "\texit 0 # success\n",
    "} catch {\n",
    "\t\"⚠️ Error in line $($_.InvocationInfo.ScriptLineNumber): $($Error[0])\"\n",
    "\texit 1\n",
    "}"
   ]
  },
  {
   "cell_type": "code",
   "execution_count": 4,
   "metadata": {
    "dotnet_interactive": {
     "language": "pwsh"
    },
    "polyglot_notebook": {
     "kernelName": "pwsh"
    },
    "vscode": {
     "languageId": "polyglot-notebook"
    }
   },
   "outputs": [
    {
     "data": {
      "text/plain": []
     },
     "metadata": {},
     "output_type": "display_data"
    },
    {
     "name": "stdout",
     "output_type": "stream",
     "text": [
      "⚠️ Error in line 28: The term '/write-typewriter.ps1' is not recognized as a name of a cmdlet, function, script file, or executable program.\r\n",
      "Check the spelling of the name, or if a path was included, verify that the path is correct and try again.\r\n"
     ]
    }
   ],
   "source": [
    "<#\n",
    ".SYNOPSIS\n",
    "\tLists the latest news\n",
    ".DESCRIPTION\n",
    "\tThis PowerShell script lists the latest news by using a RSS (Really Simple Syndication) feed.\n",
    ".PARAMETER RSS_URL\n",
    "\tSpecifies the URL to the RSS feed (Yahoo World News by default)\n",
    ".PARAMETER maxLines\n",
    "\tSpecifies the maximum number of lines to list (24 by default)\n",
    ".PARAMETER speed\n",
    "        Specifies the speed to write the text (10 ms by default)\n",
    ".EXAMPLE\n",
    "\tPS> ./list-news.ps1\n",
    "\t❇️ Deadly Mediterranean wildfires kill more than 40\n",
    "\t...\n",
    ".LINK\n",
    "\thttps://github.com/fleschutz/PowerShell\n",
    ".NOTES\n",
    "\tAuthor: Markus Fleschutz | License: CC0\n",
    "#>\n",
    "\n",
    "param([string]$RSS_URL = \"https://news.yahoo.com/rss/world\", [int]$maxLines = 24, [int]$speed = 10)\n",
    "\n",
    "try {\n",
    "\t[xml]$content = (Invoke-WebRequest -URI $RSS_URL -useBasicParsing).Content\n",
    "\t[int]$count = 1\n",
    "\tforeach ($item in $content.rss.channel.item) {\n",
    "\t\t& \"$PSScriptRoot/write-typewriter.ps1\" \"❇️ $($item.title)\" $speed\n",
    "\t\tif ($count++ -eq $maxLines) { break }\n",
    "\t}\n",
    "\t$source = $content.rss.channel.title\n",
    "\t$date = $content.rss.channel.pubDate\n",
    "\t\"   (by $source as of $date)\"\n",
    "\texit 0 # success\n",
    "} catch {\n",
    "\t\"⚠️ Error in line $($_.InvocationInfo.ScriptLineNumber): $($Error[0])\"\n",
    "\texit 1\n",
    "}"
   ]
  }
 ],
 "metadata": {
  "language_info": {
   "name": "python"
  }
 },
 "nbformat": 4,
 "nbformat_minor": 2
}
