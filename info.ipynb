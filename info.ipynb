{
 "cells": [
  {
   "cell_type": "code",
   "execution_count": null,
   "metadata": {
    "dotnet_interactive": {
     "language": "pwsh"
    },
    "vscode": {
     "languageId": "dotnet-interactive.pwsh"
    }
   },
   "outputs": [],
   "source": [
    "#get computer info (run in powershell)\n",
    "Get-ComputerInfo"
   ]
  },
  {
   "cell_type": "code",
   "execution_count": null,
   "metadata": {
    "dotnet_interactive": {
     "language": "pwsh"
    },
    "vscode": {
     "languageId": "dotnet-interactive.pwsh"
    }
   },
   "outputs": [],
   "source": [
    "# Current date\n",
    "$Date = Get-Date\n",
    "Write-Host \"$Date\""
   ]
  },
  {
   "cell_type": "code",
   "execution_count": null,
   "metadata": {
    "dotnet_interactive": {
     "language": "pwsh"
    },
    "vscode": {
     "languageId": "dotnet-interactive.pwsh"
    }
   },
   "outputs": [],
   "source": [
    "# Get WiFi password of available connections\n",
    "netsh wlan show profile name = \"ENTER NETWORK NAME HERE\" key=clear | find \"Key Content\""
   ]
  }
 ],
 "metadata": {
  "kernelspec": {
   "display_name": ".NET (PowerShell)",
   "language": "PowerShell",
   "name": ".net-pwsh"
  },
  "language_info": {
   "name": "PowerShell"
  }
 },
 "nbformat": 4,
 "nbformat_minor": 2
}
