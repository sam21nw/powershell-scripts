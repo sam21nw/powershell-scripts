{
 "cells": [
  {
   "cell_type": "code",
   "execution_count": 1,
   "metadata": {
    "dotnet_interactive": {
     "language": "pwsh"
    },
    "vscode": {
     "languageId": "polyglot-notebook"
    }
   },
   "outputs": [
    {
     "data": {
      "text/plain": []
     },
     "metadata": {},
     "output_type": "display_data"
    },
    {
     "name": "stdout",
     "output_type": "stream",
     "text": [
      "\n",
      "\u001b[32;1mWindowsBuildLabEx                                       : \u001b[0m22621.1.amd64fre.ni_release.220506-1250\n",
      "\u001b[32;1mWindowsCurrentVersion                                   : \u001b[0m6.3\n",
      "\u001b[32;1mWindowsEditionId                                        : \u001b[0mProfessional\n",
      "\u001b[32;1mWindowsInstallationType                                 : \u001b[0mClient\n",
      "\u001b[32;1mWindowsInstallDateFromRegistry                          : \u001b[0m11/19/2023 6:53:55 PM\n",
      "\u001b[32;1mWindowsProductId                                        : \u001b[0m00330-80000-00000-AA409\n",
      "\u001b[32;1mWindowsProductName                                      : \u001b[0mWindows 10 Pro\n",
      "\u001b[32;1mWindowsRegisteredOrganization                           : \u001b[0m\n",
      "\u001b[32;1mWindowsRegisteredOwner                                  : \u001b[0msam21nw@outlook.com\n",
      "\u001b[32;1mWindowsSystemRoot                                       : \u001b[0mC:\\Windows\n",
      "\u001b[32;1mWindowsVersion                                          : \u001b[0m2009\n",
      "\u001b[32;1mWindowsUBR                                              : \u001b[0m2715\n",
      "\u001b[32;1mBiosCharacteristics                                     : \u001b[0m{7, 11, 12, 15…}\n",
      "\u001b[32;1mBiosBIOSVersion                                         : \u001b[0m{ALASKA - 1072009, 1.B3, American \n",
      "                                                          Megatrends - 5000C}\n",
      "\u001b[32;1mBiosBuildNumber                                         : \u001b[0m\n",
      "\u001b[32;1mBiosCaption                                             : \u001b[0m1.B3\n",
      "\u001b[32;1mBiosCodeSet                                             : \u001b[0m\n",
      "\u001b[32;1mBiosCurrentLanguage                                     : \u001b[0m\n",
      "\u001b[32;1mBiosDescription                                         : \u001b[0m1.B3\n",
      "\u001b[32;1mBiosEmbeddedControllerMajorVersion                      : \u001b[0m255\n",
      "\u001b[32;1mBiosEmbeddedControllerMinorVersion                      : \u001b[0m255\n",
      "\u001b[32;1mBiosFirmwareType                                        : \u001b[0mUefi\n",
      "\u001b[32;1mBiosIdentificationCode                                  : \u001b[0m\n",
      "\u001b[32;1mBiosInstallableLanguages                                : \u001b[0m\n",
      "\u001b[32;1mBiosInstallDate                                         : \u001b[0m\n",
      "\u001b[32;1mBiosLanguageEdition                                     : \u001b[0m\n",
      "\u001b[32;1mBiosListOfLanguages                                     : \u001b[0m\n",
      "\u001b[32;1mBiosManufacturer                                        : \u001b[0mAmerican Megatrends Inc.\n",
      "\u001b[32;1mBiosName                                                : \u001b[0m1.B3\n",
      "\u001b[32;1mBiosOtherTargetOS                                       : \u001b[0m\n",
      "\u001b[32;1mBiosPrimaryBIOS                                         : \u001b[0mTrue\n",
      "\u001b[32;1mBiosReleaseDate                                         : \u001b[0m11/17/2021 1:00:00 AM\n",
      "\u001b[32;1mBiosSerialNumber                                        : \u001b[0mDefault string\n",
      "\u001b[32;1mBiosSMBIOSBIOSVersion                                   : \u001b[0m1.B3\n",
      "\u001b[32;1mBiosSMBIOSMajorVersion                                  : \u001b[0m2\n",
      "\u001b[32;1mBiosSMBIOSMinorVersion                                  : \u001b[0m8\n",
      "\u001b[32;1mBiosSMBIOSPresent                                       : \u001b[0mTrue\n",
      "\u001b[32;1mBiosSoftwareElementState                                : \u001b[0mRunning\n",
      "\u001b[32;1mBiosStatus                                              : \u001b[0mOK\n",
      "\u001b[32;1mBiosSystemBiosMajorVersion                              : \u001b[0m5\n",
      "\u001b[32;1mBiosSystemBiosMinorVersion                              : \u001b[0m12\n",
      "\u001b[32;1mBiosTargetOperatingSystem                               : \u001b[0m0\n",
      "\u001b[32;1mBiosVersion                                             : \u001b[0mALASKA - 1072009\n",
      "\u001b[32;1mCsAdminPasswordStatus                                   : \u001b[0mUnknown\n",
      "\u001b[32;1mCsAutomaticManagedPagefile                              : \u001b[0mTrue\n",
      "\u001b[32;1mCsAutomaticResetBootOption                              : \u001b[0mTrue\n",
      "\u001b[32;1mCsAutomaticResetCapability                              : \u001b[0mTrue\n",
      "\u001b[32;1mCsBootOptionOnLimit                                     : \u001b[0m\n",
      "\u001b[32;1mCsBootOptionOnWatchDog                                  : \u001b[0m\n",
      "\u001b[32;1mCsBootROMSupported                                      : \u001b[0mTrue\n",
      "\u001b[32;1mCsBootStatus                                            : \u001b[0m{0, 0, 0, 0…}\n",
      "\u001b[32;1mCsBootupState                                           : \u001b[0mNormal boot\n",
      "\u001b[32;1mCsCaption                                               : \u001b[0mPC-2K456\n",
      "\u001b[32;1mCsChassisBootupState                                    : \u001b[0mSafe\n",
      "\u001b[32;1mCsChassisSKUNumber                                      : \u001b[0mDefault string\n",
      "\u001b[32;1mCsCurrentTimeZone                                       : \u001b[0m60\n",
      "\u001b[32;1mCsDaylightInEffect                                      : \u001b[0mFalse\n",
      "\u001b[32;1mCsDescription                                           : \u001b[0mAT/AT COMPATIBLE\n",
      "\u001b[32;1mCsDNSHostName                                           : \u001b[0mPC-2k456\n",
      "\u001b[32;1mCsDomain                                                : \u001b[0mWORKGROUP\n",
      "\u001b[32;1mCsDomainRole                                            : \u001b[0mStandaloneWorkstation\n",
      "\u001b[32;1mCsEnableDaylightSavingsTime                             : \u001b[0mTrue\n",
      "\u001b[32;1mCsFrontPanelResetStatus                                 : \u001b[0mUnknown\n",
      "\u001b[32;1mCsHypervisorPresent                                     : \u001b[0mFalse\n",
      "\u001b[32;1mCsInfraredSupported                                     : \u001b[0mFalse\n",
      "\u001b[32;1mCsInitialLoadInfo                                       : \u001b[0m\n",
      "\u001b[32;1mCsInstallDate                                           : \u001b[0m\n",
      "\u001b[32;1mCsKeyboardPasswordStatus                                : \u001b[0mUnknown\n",
      "\u001b[32;1mCsLastLoadInfo                                          : \u001b[0m\n",
      "\u001b[32;1mCsManufacturer                                          : \u001b[0mMicro-Star International Co., Ltd.\n",
      "\u001b[32;1mCsModel                                                 : \u001b[0mMS-7B47\n",
      "\u001b[32;1mCsName                                                  : \u001b[0mPC-2K456\n",
      "\u001b[32;1mCsNetworkAdapters                                       : \u001b[0m{WiFi, Ethernet, Bluetooth Network \n",
      "                                                          Connection}\n",
      "\u001b[32;1mCsNetworkServerModeEnabled                              : \u001b[0mTrue\n",
      "\u001b[32;1mCsNumberOfLogicalProcessors                             : \u001b[0m12\n",
      "\u001b[32;1mCsNumberOfProcessors                                    : \u001b[0m1\n",
      "\u001b[32;1mCsProcessors                                            : \u001b[0m{Intel(R) Core(TM) i7-8700K CPU @ \n",
      "                                                          3.70GHz}\n",
      "\u001b[32;1mCsOEMStringArray                                        : \u001b[0m{Default string}\n",
      "\u001b[32;1mCsPartOfDomain                                          : \u001b[0mFalse\n",
      "\u001b[32;1mCsPauseAfterReset                                       : \u001b[0m-1\n",
      "\u001b[32;1mCsPCSystemType                                          : \u001b[0mDesktop\n",
      "\u001b[32;1mCsPCSystemTypeEx                                        : \u001b[0mDesktop\n",
      "\u001b[32;1mCsPowerManagementCapabilities                           : \u001b[0m\n",
      "\u001b[32;1mCsPowerManagementSupported                              : \u001b[0m\n",
      "\u001b[32;1mCsPowerOnPasswordStatus                                 : \u001b[0mUnknown\n",
      "\u001b[32;1mCsPowerState                                            : \u001b[0mUnknown\n",
      "\u001b[32;1mCsPowerSupplyState                                      : \u001b[0mSafe\n",
      "\u001b[32;1mCsPrimaryOwnerContact                                   : \u001b[0m\n",
      "\u001b[32;1mCsPrimaryOwnerName                                      : \u001b[0msam21nw@outlook.com\n",
      "\u001b[32;1mCsResetCapability                                       : \u001b[0mOther\n",
      "\u001b[32;1mCsResetCount                                            : \u001b[0m-1\n",
      "\u001b[32;1mCsResetLimit                                            : \u001b[0m-1\n",
      "\u001b[32;1mCsRoles                                                 : \u001b[0m{LM_Workstation, LM_Server, NT}\n",
      "\u001b[32;1mCsStatus                                                : \u001b[0mOK\n",
      "\u001b[32;1mCsSupportContactDescription                             : \u001b[0m\n",
      "\u001b[32;1mCsSystemFamily                                          : \u001b[0mDefault string\n",
      "\u001b[32;1mCsSystemSKUNumber                                       : \u001b[0mDefault string\n",
      "\u001b[32;1mCsSystemType                                            : \u001b[0mx64-based PC\n",
      "\u001b[32;1mCsThermalState                                          : \u001b[0mSafe\n",
      "\u001b[32;1mCsTotalPhysicalMemory                                   : \u001b[0m17043623936\n",
      "\u001b[32;1mCsPhysicallyInstalledMemory                             : \u001b[0m16777216\n",
      "\u001b[32;1mCsUserName                                              : \u001b[0mPC-2k456\\sam21\n",
      "\u001b[32;1mCsWakeUpType                                            : \u001b[0mPowerSwitch\n",
      "\u001b[32;1mCsWorkgroup                                             : \u001b[0mWORKGROUP\n",
      "\u001b[32;1mOsName                                                  : \u001b[0mMicrosoft Windows 11 Pro\n",
      "\u001b[32;1mOsType                                                  : \u001b[0mWINNT\n",
      "\u001b[32;1mOsOperatingSystemSKU                                    : \u001b[0m48\n",
      "\u001b[32;1mOsVersion                                               : \u001b[0m10.0.22621\n",
      "\u001b[32;1mOsCSDVersion                                            : \u001b[0m\n",
      "\u001b[32;1mOsBuildNumber                                           : \u001b[0m22621\n",
      "\u001b[32;1mOsHotFixes                                              : \u001b[0m{KB5032007, KB5031274, KB5033055, \n",
      "                                                          KB5032190…}\n",
      "\u001b[32;1mOsBootDevice                                            : \u001b[0m\\Device\\HarddiskVolume4\n",
      "\u001b[32;1mOsSystemDevice                                          : \u001b[0m\\Device\\HarddiskVolume6\n",
      "\u001b[32;1mOsSystemDirectory                                       : \u001b[0mC:\\Windows\\system32\n",
      "\u001b[32;1mOsSystemDrive                                           : \u001b[0mC:\n",
      "\u001b[32;1mOsWindowsDirectory                                      : \u001b[0mC:\\Windows\n",
      "\u001b[32;1mOsCountryCode                                           : \u001b[0m44\n",
      "\u001b[32;1mOsCurrentTimeZone                                       : \u001b[0m60\n",
      "\u001b[32;1mOsLocaleID                                              : \u001b[0m0809\n",
      "\u001b[32;1mOsLocale                                                : \u001b[0men-GB\n",
      "\u001b[32;1mOsLocalDateTime                                         : \u001b[0m11/20/2023 10:45:27 AM\n",
      "\u001b[32;1mOsLastBootUpTime                                        : \u001b[0m11/20/2023 7:42:49 AM\n",
      "\u001b[32;1mOsUptime                                                : \u001b[0m03:02:37.4326448\n",
      "\u001b[32;1mOsBuildType                                             : \u001b[0mMultiprocessor Free\n",
      "\u001b[32;1mOsCodeSet                                               : \u001b[0m1252\n",
      "\u001b[32;1mOsDataExecutionPreventionAvailable                      : \u001b[0mTrue\n",
      "\u001b[32;1mOsDataExecutionPrevention32BitApplications              : \u001b[0mTrue\n",
      "\u001b[32;1mOsDataExecutionPreventionDrivers                        : \u001b[0mTrue\n",
      "\u001b[32;1mOsDataExecutionPreventionSupportPolicy                  : \u001b[0mOptIn\n",
      "\u001b[32;1mOsDebug                                                 : \u001b[0mFalse\n",
      "\u001b[32;1mOsDistributed                                           : \u001b[0mFalse\n",
      "\u001b[32;1mOsEncryptionLevel                                       : \u001b[0m256\n",
      "\u001b[32;1mOsForegroundApplicationBoost                            : \u001b[0mMaximum\n",
      "\u001b[32;1mOsTotalVisibleMemorySize                                : \u001b[0m16644164\n",
      "\u001b[32;1mOsFreePhysicalMemory                                    : \u001b[0m5977264\n",
      "\u001b[32;1mOsTotalVirtualMemorySize                                : \u001b[0m19658820\n",
      "\u001b[32;1mOsFreeVirtualMemory                                     : \u001b[0m6782960\n",
      "\u001b[32;1mOsInUseVirtualMemory                                    : \u001b[0m12875860\n",
      "\u001b[32;1mOsTotalSwapSpaceSize                                    : \u001b[0m\n",
      "\u001b[32;1mOsSizeStoredInPagingFiles                               : \u001b[0m3014656\n",
      "\u001b[32;1mOsFreeSpaceInPagingFiles                                : \u001b[0m3004048\n",
      "\u001b[32;1mOsPagingFiles                                           : \u001b[0m{C:\\pagefile.sys}\n",
      "\u001b[32;1mOsHardwareAbstractionLayer                              : \u001b[0m10.0.22621.2506\n",
      "\u001b[32;1mOsInstallDate                                           : \u001b[0m11/19/2023 7:53:55 PM\n",
      "\u001b[32;1mOsManufacturer                                          : \u001b[0mMicrosoft Corporation\n",
      "\u001b[32;1mOsMaxNumberOfProcesses                                  : \u001b[0m4294967295\n",
      "\u001b[32;1mOsMaxProcessMemorySize                                  : \u001b[0m137438953344\n",
      "\u001b[32;1mOsMuiLanguages                                          : \u001b[0m{en-GB}\n",
      "\u001b[32;1mOsNumberOfLicensedUsers                                 : \u001b[0m\n",
      "\u001b[32;1mOsNumberOfProcesses                                     : \u001b[0m222\n",
      "\u001b[32;1mOsNumberOfUsers                                         : \u001b[0m2\n",
      "\u001b[32;1mOsOrganization                                          : \u001b[0m\n",
      "\u001b[32;1mOsArchitecture                                          : \u001b[0m64-bit\n",
      "\u001b[32;1mOsLanguage                                              : \u001b[0men-GB\n",
      "\u001b[32;1mOsProductSuites                                         : \u001b[0m{TerminalServicesSingleSession}\n",
      "\u001b[32;1mOsOtherTypeDescription                                  : \u001b[0m\n",
      "\u001b[32;1mOsPAEEnabled                                            : \u001b[0m\n",
      "\u001b[32;1mOsPortableOperatingSystem                               : \u001b[0mFalse\n",
      "\u001b[32;1mOsPrimary                                               : \u001b[0mTrue\n",
      "\u001b[32;1mOsProductType                                           : \u001b[0mWorkStation\n",
      "\u001b[32;1mOsRegisteredUser                                        : \u001b[0msam21nw@outlook.com\n",
      "\u001b[32;1mOsSerialNumber                                          : \u001b[0m00330-80000-00000-AA409\n",
      "\u001b[32;1mOsServicePackMajorVersion                               : \u001b[0m0\n",
      "\u001b[32;1mOsServicePackMinorVersion                               : \u001b[0m0\n",
      "\u001b[32;1mOsStatus                                                : \u001b[0mOK\n",
      "\u001b[32;1mOsSuites                                                : \u001b[0m{TerminalServices, \n",
      "                                                          TerminalServicesSingleSession}\n",
      "\u001b[32;1mOsServerLevel                                           : \u001b[0m\n",
      "\u001b[32;1mKeyboardLayout                                          : \u001b[0men-GB\n",
      "\u001b[32;1mTimeZone                                                : \u001b[0m(UTC+01:00) Amsterdam, Berlin, Bern, \n",
      "                                                          Rome, Stockholm, Vienna\n",
      "\u001b[32;1mLogonServer                                             : \u001b[0m\\\\PC-2K456\n",
      "\u001b[32;1mPowerPlatformRole                                       : \u001b[0mDesktop\n",
      "\u001b[32;1mHyperVisorPresent                                       : \u001b[0mFalse\n",
      "\u001b[32;1mHyperVRequirementDataExecutionPreventionAvailable       : \u001b[0mTrue\n",
      "\u001b[32;1mHyperVRequirementSecondLevelAddressTranslation          : \u001b[0mTrue\n",
      "\u001b[32;1mHyperVRequirementVirtualizationFirmwareEnabled          : \u001b[0mTrue\n",
      "\u001b[32;1mHyperVRequirementVMMonitorModeExtensions                : \u001b[0mTrue\n",
      "\u001b[32;1mDeviceGuardSmartStatus                                  : \u001b[0mOff\n",
      "\u001b[32;1mDeviceGuardRequiredSecurityProperties                   : \u001b[0m\n",
      "\u001b[32;1mDeviceGuardAvailableSecurityProperties                  : \u001b[0m\n",
      "\u001b[32;1mDeviceGuardSecurityServicesConfigured                   : \u001b[0m\n",
      "\u001b[32;1mDeviceGuardSecurityServicesRunning                      : \u001b[0m\n",
      "\u001b[32;1mDeviceGuardCodeIntegrityPolicyEnforcementStatus         : \u001b[0m\n",
      "\u001b[32;1mDeviceGuardUserModeCodeIntegrityPolicyEnforcementStatus : \u001b[0m\n",
      "\n",
      "\n"
     ]
    }
   ],
   "source": [
    "#get computer info (run in powershell)\n",
    "Get-ComputerInfo"
   ]
  },
  {
   "cell_type": "code",
   "execution_count": 2,
   "metadata": {
    "dotnet_interactive": {
     "language": "pwsh"
    },
    "vscode": {
     "languageId": "polyglot-notebook"
    }
   },
   "outputs": [
    {
     "name": "stdout",
     "output_type": "stream",
     "text": [
      "11/20/2023 10:45:46\r\n"
     ]
    }
   ],
   "source": [
    "# Current date\n",
    "$Date = Get-Date\n",
    "Write-Host \"$Date\""
   ]
  },
  {
   "cell_type": "code",
   "execution_count": 3,
   "metadata": {
    "dotnet_interactive": {
     "language": "pwsh"
    },
    "vscode": {
     "languageId": "polyglot-notebook"
    }
   },
   "outputs": [
    {
     "name": "stdout",
     "output_type": "stream",
     "text": [
      "    Key Content            : kdz5uzylzm\r\n"
     ]
    }
   ],
   "source": [
    "# Get WiFi password of available connections\n",
    "netsh wlan show profile name = \"Telia-306C80\" key=clear | find \"Key Content\""
   ]
  },
  {
   "cell_type": "code",
   "execution_count": 4,
   "metadata": {
    "dotnet_interactive": {
     "language": "pwsh"
    },
    "polyglot_notebook": {
     "kernelName": "pwsh"
    },
    "vscode": {
     "languageId": "polyglot-notebook"
    }
   },
   "outputs": [
    {
     "name": "stdout",
     "output_type": "stream",
     "text": [
      "Manufacturer                        Product                  SerialNumber  Version  \n",
      "\n",
      "Micro-Star International Co., Ltd.  Z370 TOMAHAWK (MS-7B47)  H916679293    1.0      \n",
      "\n",
      "\n",
      "\n"
     ]
    }
   ],
   "source": [
    "wmic baseboard get product,Manufacturer,version,serialnumber"
   ]
  },
  {
   "cell_type": "code",
   "execution_count": 5,
   "metadata": {
    "dotnet_interactive": {
     "language": "pwsh"
    },
    "polyglot_notebook": {
     "kernelName": "pwsh"
    },
    "vscode": {
     "languageId": "polyglot-notebook"
    }
   },
   "outputs": [
    {
     "name": "stdout",
     "output_type": "stream",
     "text": [
      "\u001b[31;1m  % Total    % Received % Xferd  Average Speed   Time    Time     Time  Current\u001b[0m\n",
      "\u001b[31;1m                                 Dload  Upload   Total   Spent    Left  Speed\u001b[0m\n",
      "\u001b[31;1m\u001b[0m\n",
      "Weather report: Oslo\n",
      "\n",
      "  \u001b[38;5;226m   \\  /\u001b[0m       Partly cloudy\n",
      "  \u001b[38;5;226m _ /\"\"\u001b[38;5;250m.-.    \u001b[0m \u001b[38;5;047m+7\u001b[0m(\u001b[38;5;047m6\u001b[0m) °C\u001b[0m       \n",
      "  \u001b[38;5;226m   \\_\u001b[38;5;250m(   ).  \u001b[0m \u001b[1m↙\u001b[0m \u001b[38;5;196m33\u001b[0m km/h\u001b[0m      \n",
      "  \u001b[38;5;226m   /\u001b[38;5;250m(___(__) \u001b[0m 10 km\u001b[0m          \n",
      "                0.0 mm\u001b[0m         \n",
      "                                                       ┌─────────────┐                                                       \n",
      "┌──────────────────────────────┬───────────────────────┤  Mon 20 Nov ├───────────────────────┬──────────────────────────────┐\n",
      "│            Morning           │             Noon      └──────┬──────┘     Evening           │             Night            │\n",
      "├──────────────────────────────┼──────────────────────────────┼──────────────────────────────┼──────────────────────────────┤\n",
      "│ \u001b[38;5;226m _`/\"\"\u001b[38;5;250m.-.    \u001b[0m Light snow     │ \u001b[38;5;226m _`/\"\"\u001b[38;5;250m.-.    \u001b[0m Light snow     │               Overcast       │ \u001b[38;5;250m     .-.     \u001b[0m Light freezing │\n",
      "│ \u001b[38;5;226m  ,\\_\u001b[38;5;250m(   ).  \u001b[0m \u001b[38;5;045m-4\u001b[0m(\u001b[38;5;039m-7\u001b[0m) °C\u001b[0m      │ \u001b[38;5;226m  ,\\_\u001b[38;5;250m(   ).  \u001b[0m \u001b[38;5;051m-3\u001b[0m(\u001b[38;5;045m-5\u001b[0m) °C\u001b[0m      │ \u001b[38;5;240;1m     .--.    \u001b[0m \u001b[38;5;045m-6\u001b[0m(\u001b[38;5;039m-9\u001b[0m) °C\u001b[0m      │ \u001b[38;5;250m    (   ).   \u001b[0m \u001b[38;5;039m-7\u001b[0m(\u001b[38;5;033m-10\u001b[0m) °C\u001b[0m     │\n",
      "│ \u001b[38;5;226m   /\u001b[38;5;250m(___(__) \u001b[0m \u001b[1m↓\u001b[0m \u001b[38;5;118m6\u001b[0m-\u001b[38;5;154m8\u001b[0m km/h\u001b[0m     │ \u001b[38;5;226m   /\u001b[38;5;250m(___(__) \u001b[0m \u001b[1m↓\u001b[0m \u001b[38;5;118m6\u001b[0m-\u001b[38;5;154m7\u001b[0m km/h\u001b[0m     │ \u001b[38;5;240;1m  .-(    ).  \u001b[0m \u001b[1m↓\u001b[0m \u001b[38;5;154m7\u001b[0m-\u001b[38;5;226m13\u001b[0m km/h\u001b[0m    │ \u001b[38;5;250m   (___(__)  \u001b[0m \u001b[1m↓\u001b[0m \u001b[38;5;154m7\u001b[0m-\u001b[38;5;226m14\u001b[0m km/h\u001b[0m    │\n",
      "│ \u001b[38;5;255m     *  *  * \u001b[0m 10 km\u001b[0m          │ \u001b[38;5;255m     *  *  * \u001b[0m 10 km\u001b[0m          │ \u001b[38;5;240;1m (___.__)__) \u001b[0m 10 km\u001b[0m          │ \u001b[38;5;111m    ‘ \u001b[38;5;255m*\u001b[38;5;111m ‘ \u001b[38;5;255m*  \u001b[0m 10 km\u001b[0m          │\n",
      "│ \u001b[38;5;255m    *  *  *  \u001b[0m 0.0 mm | 0%\u001b[0m    │ \u001b[38;5;255m    *  *  *  \u001b[0m 0.1 mm | 0%\u001b[0m    │               0.0 mm | 0%\u001b[0m    │ \u001b[38;5;255m   *\u001b[38;5;111m ‘ \u001b[38;5;255m*\u001b[38;5;111m ‘   \u001b[0m 0.0 mm | 0%\u001b[0m    │\n",
      "└──────────────────────────────┴──────────────────────────────┴──────────────────────────────┴──────────────────────────────┘\n",
      "                                                       ┌─────────────┐                                                       \n",
      "┌──────────────────────────────┬───────────────────────┤  Tue 21 Nov ├───────────────────────┬──────────────────────────────┐\n",
      "│            Morning           │             Noon      └──────┬──────┘     Evening           │             Night            │\n",
      "\u001b[31;1m  0     0    0     0    0     0      0      0 --:--:-- --:--:-- --:--:--     0\u001b[0m\n",
      "├──────────────────────────────┼──────────────────────────────┼──────────────────────────────┼──────────────────────────────┤\n",
      "│               Overcast       │ \u001b[38;5;226m _`/\"\"\u001b[38;5;250m.-.    \u001b[0m Light snow     │               Mist           │ \u001b[38;5;226m _`/\"\"\u001b[38;5;250m.-.    \u001b[0m Light snow     │\n",
      "│ \u001b[38;5;240;1m     .--.    \u001b[0m \u001b[38;5;039m-9\u001b[0m(\u001b[38;5;033m-12\u001b[0m) °C\u001b[0m     │ \u001b[38;5;226m  ,\\_\u001b[38;5;250m(   ).  \u001b[0m \u001b[38;5;045m-5\u001b[0m(\u001b[38;5;039m-7\u001b[0m) °C\u001b[0m      │ \u001b[38;5;251m _ - _ - _ - \u001b[0m \u001b[38;5;039m-9\u001b[0m(\u001b[38;5;033m-11\u001b[0m) °C\u001b[0m     │ \u001b[38;5;226m  ,\\_\u001b[38;5;250m(   ).  \u001b[0m \u001b[38;5;039m-7\u001b[0m °C\u001b[0m          │\n",
      "│ \u001b[38;5;240;1m  .-(    ).  \u001b[0m \u001b[1m↓\u001b[0m \u001b[38;5;118m6\u001b[0m-\u001b[38;5;226m13\u001b[0m km/h\u001b[0m    │ \u001b[38;5;226m   /\u001b[38;5;250m(___(__) \u001b[0m \u001b[1m↓\u001b[0m \u001b[38;5;118m5\u001b[0m km/h\u001b[0m       │ \u001b[38;5;251m  _ - _ - _  \u001b[0m \u001b[1m↓\u001b[0m \u001b[38;5;118m4\u001b[0m-\u001b[38;5;154m8\u001b[0m km/h\u001b[0m     │ \u001b[38;5;226m   /\u001b[38;5;250m(___(__) \u001b[0m \u001b[1m↑\u001b[0m \u001b[38;5;082m1\u001b[0m km/h\u001b[0m       │\n",
      "│ \u001b[38;5;240;1m (___.__)__) \u001b[0m 10 km\u001b[0m          │ \u001b[38;5;255m     *  *  * \u001b[0m 10 km\u001b[0m          │ \u001b[38;5;251m _ - _ - _ - \u001b[0m 2 km\u001b[0m           │ \u001b[38;5;255m     *  *  * \u001b[0m 10 km\u001b[0m          │\n",
      "│               0.0 mm | 0%\u001b[0m    │ \u001b[38;5;255m    *  *  *  \u001b[0m 0.0 mm | 0%\u001b[0m    │               0.0 mm | 0%\u001b[0m    │ \u001b[38;5;255m    *  *  *  \u001b[0m 0.0 mm | 0%\u001b[0m    │\n",
      "└──────────────────────────────┴──────────────────────────────┴──────────────────────────────┴──────────────────────────────┘\n",
      "                                                       ┌─────────────┐                                                       \n",
      "┌──────────────────────────────┬───────────────────────┤  Wed 22 Nov ├───────────────────────┬──────────────────────────────┐\n",
      "│            Morning           │             Noon      └──────┬──────┘     Evening           │             Night            │\n",
      "├──────────────────────────────┼──────────────────────────────┼──────────────────────────────┼──────────────────────────────┤\n",
      "│ \u001b[38;5;240;1m     .-.     \u001b[0m Moderate snow  │               Overcast       │               Mist           │ \u001b[38;5;226m    \\   /    \u001b[0m Clear          │\n",
      "│ \u001b[38;5;240;1m    (   ).   \u001b[0m \u001b[38;5;051m-2\u001b[0m(\u001b[38;5;045m-6\u001b[0m) °C\u001b[0m      │ \u001b[38;5;240;1m     .--.    \u001b[0m \u001b[38;5;049m+3\u001b[0m(\u001b[38;5;051m-2\u001b[0m) °C\u001b[0m      │ \u001b[38;5;251m _ - _ - _ - \u001b[0m \u001b[38;5;049m+2\u001b[0m(\u001b[38;5;050m0\u001b[0m) °C\u001b[0m       │ \u001b[38;5;226m     .-.     \u001b[0m \u001b[38;5;050m+1\u001b[0m(\u001b[38;5;051m-2\u001b[0m) °C\u001b[0m      │\n",
      "│ \u001b[38;5;240;1m   (___(__)  \u001b[0m \u001b[1m↑\u001b[0m \u001b[38;5;190m10\u001b[0m-\u001b[38;5;226m13\u001b[0m km/h\u001b[0m   │ \u001b[38;5;240;1m  .-(    ).  \u001b[0m \u001b[1m↑\u001b[0m \u001b[38;5;208m27\u001b[0m-\u001b[38;5;196m35\u001b[0m km/h\u001b[0m   │ \u001b[38;5;251m  _ - _ - _  \u001b[0m \u001b[1m↗\u001b[0m \u001b[38;5;118m6\u001b[0m-\u001b[38;5;226m14\u001b[0m km/h\u001b[0m    │ \u001b[38;5;226m  ― (   ) ―  \u001b[0m \u001b[1m→\u001b[0m \u001b[38;5;154m9\u001b[0m-\u001b[38;5;214m20\u001b[0m km/h\u001b[0m    │\n",
      "\u001b[31;1m100  8741  100  8741    0     0  18126      0 --:--:-- --:--:-- --:--:-- 18134\u001b[0m\n",
      "│ \u001b[38;5;255;1m   * * * *   \u001b[0m 5 km\u001b[0m           │ \u001b[38;5;240;1m (___.__)__) \u001b[0m 10 km\u001b[0m          │ \u001b[38;5;251m _ - _ - _ - \u001b[0m 2 km\u001b[0m           │ \u001b[38;5;226m     `-’     \u001b[0m 10 km\u001b[0m          │\n",
      "\u001b[31;1m100  8741  100  8741    0     0  18120      0 --:--:-- --:--:-- --:--:-- 18134\u001b[0m\n",
      "│ \u001b[38;5;255;1m  * * * *    \u001b[0m 0.1 mm | 0%\u001b[0m    │               0.0 mm | 0%\u001b[0m    │               0.0 mm | 0%\u001b[0m    │ \u001b[38;5;226m    /   \\    \u001b[0m 0.0 mm | 0%\u001b[0m    │\n",
      "└──────────────────────────────┴──────────────────────────────┴──────────────────────────────┴──────────────────────────────┘\n",
      "Location: Oslo, Norge [59.9132694,10.7391112]\n",
      "\n",
      "Follow \u001b[46m\u001b[30m@igor_chubin\u001b[0m for wttr.in updates\n"
     ]
    }
   ],
   "source": [
    "curl wttr.in/Oslo"
   ]
  },
  {
   "cell_type": "code",
   "execution_count": 6,
   "metadata": {
    "dotnet_interactive": {
     "language": "pwsh"
    },
    "polyglot_notebook": {
     "kernelName": "pwsh"
    },
    "vscode": {
     "languageId": "polyglot-notebook"
    }
   },
   "outputs": [
    {
     "name": "stdout",
     "output_type": "stream",
     "text": [
      "\n",
      "\u001b[32;1m        Scope ExecutionPolicy\u001b[0m\n",
      "\u001b[32;1m        ----- ---------------\u001b[0m\n",
      "MachinePolicy       Undefined\n",
      "   UserPolicy       Undefined\n",
      "      Process    RemoteSigned\n",
      "  CurrentUser       Undefined\n",
      " LocalMachine       Undefined\n",
      "\n"
     ]
    }
   ],
   "source": [
    "Get-ExecutionPolicy -List"
   ]
  },
  {
   "cell_type": "code",
   "execution_count": 8,
   "metadata": {
    "dotnet_interactive": {
     "language": "pwsh"
    },
    "polyglot_notebook": {
     "kernelName": "pwsh"
    },
    "vscode": {
     "languageId": "polyglot-notebook"
    }
   },
   "outputs": [
    {
     "name": "stdout",
     "output_type": "stream",
     "text": [
      "\u001b[31;1mSet-ExecutionPolicy: \u001b[31;1mPowerShell updated your execution policy successfully, but the setting is overridden by a policy defined at a more specific scope.  Due to the override, your shell will retain its current effective execution policy of RemoteSigned. Type \"Get-ExecutionPolicy -List\" to view your execution policy settings. For more information please see \"Get-Help Set-ExecutionPolicy\".\u001b[0m\r\n"
     ]
    },
    {
     "ename": "Error",
     "evalue": "Command failed: SubmitCode: Set-ExecutionPolicy -ExecutionPolicy Unrestricted  ...",
     "output_type": "error",
     "traceback": [
      "Command failed: SubmitCode: Set-ExecutionPolicy -ExecutionPolicy Unrestricted  ..."
     ]
    }
   ],
   "source": [
    "Set-ExecutionPolicy -ExecutionPolicy Unrestricted -Scope LocalMachine"
   ]
  },
  {
   "cell_type": "code",
   "execution_count": 4,
   "metadata": {
    "dotnet_interactive": {
     "language": "pwsh"
    },
    "polyglot_notebook": {
     "kernelName": "pwsh"
    },
    "vscode": {
     "languageId": "polyglot-notebook"
    }
   },
   "outputs": [],
   "source": [
    "del \"C:\\Windows\\Temp\\*\""
   ]
  },
  {
   "cell_type": "code",
   "execution_count": null,
   "metadata": {
    "dotnet_interactive": {
     "language": "pwsh"
    },
    "polyglot_notebook": {
     "kernelName": "pwsh"
    },
    "vscode": {
     "languageId": "polyglot-notebook"
    }
   },
   "outputs": [],
   "source": [
    "del \"C:\\Users\\sam21\\AppData\\Local\\Temp\\*\""
   ]
  },
  {
   "cell_type": "code",
   "execution_count": 1,
   "metadata": {
    "dotnet_interactive": {
     "language": "pwsh"
    },
    "polyglot_notebook": {
     "kernelName": "pwsh"
    },
    "vscode": {
     "languageId": "polyglot-notebook"
    }
   },
   "outputs": [
    {
     "name": "stdout",
     "output_type": "stream",
     "text": [
      "\n",
      "    Directory: D:\\Powershell\\powershell-scripts\n",
      "\n",
      "\u001b[32;1mMode                 LastWriteTime         Length Name\u001b[0m\n",
      "\u001b[32;1m----                 -------------         ------ ----\u001b[0m\n",
      "-a---          11/15/2023  8:31 PM              0 \u001b[33;1mCreateFile.ps1\u001b[0m\n",
      "-a---          11/15/2023  8:31 PM           2370 learn.ipynb\n",
      "-a---          11/11/2023  8:55 PM           2006 oh-my-posh.ipynb\n",
      "-a---          11/11/2023  8:55 PM           1077 rename-folders-files.ipynb\n",
      "-a---          11/20/2023 11:45 AM          35835 useful_commands.ipynb\n",
      "\n"
     ]
    }
   ],
   "source": [
    "Get-ChildItem"
   ]
  },
  {
   "cell_type": "code",
   "execution_count": 4,
   "metadata": {
    "dotnet_interactive": {
     "language": "pwsh"
    },
    "polyglot_notebook": {
     "kernelName": "pwsh"
    },
    "vscode": {
     "languageId": "polyglot-notebook"
    }
   },
   "outputs": [],
   "source": [
    "Get-ComputerInfo Export | Out-File D:\\Powershell\\powershell-scripts\\Test.txt"
   ]
  },
  {
   "cell_type": "code",
   "execution_count": 5,
   "metadata": {
    "dotnet_interactive": {
     "language": "pwsh"
    },
    "polyglot_notebook": {
     "kernelName": "pwsh"
    },
    "vscode": {
     "languageId": "polyglot-notebook"
    }
   },
   "outputs": [
    {
     "name": "stdout",
     "output_type": "stream",
     "text": [
      "\n",
      "\u001b[32;1mVerb        AliasPrefix Group          Description\u001b[0m\n",
      "\u001b[32;1m----        ----------- -----          -----------\u001b[0m\n",
      "Add         a           Common         Adds a resource to a container, or attaches an item to anot…\n",
      "Clear       cl          Common         Removes all the resources from a container but does not del…\n",
      "Close       cs          Common         Changes the state of a resource to make it inaccessible, un…\n",
      "Copy        cp          Common         Copies a resource to another name or to another container\n",
      "Enter       et          Common         Specifies an action that allows the user to move into a res…\n",
      "Exit        ex          Common         Sets the current environment or context to the most recentl…\n",
      "Find        fd          Common         Looks for an object in a container that is unknown, implied…\n",
      "Format      f           Common         Arranges objects in a specified form or layout\n",
      "Get         g           Common         Specifies an action that retrieves a resource\n",
      "Hide        h           Common         Makes a resource undetectable\n",
      "Join        j           Common         Combines resources into one resource\n",
      "Lock        lk          Common         Secures a resource\n",
      "Move        m           Common         Moves a resource from one location to another\n",
      "New         n           Common         Creates a resource\n",
      "Open        op          Common         Changes the state of a resource to make it accessible, avai…\n",
      "Optimize    om          Common         Increases the effectiveness of a resource\n",
      "Push        pu          Common         Adds an item to the top of a stack\n",
      "Pop         pop         Common         Removes an item from the top of a stack\n",
      "Redo        re          Common         Resets a resource to the state that was undone\n",
      "Remove      r           Common         Deletes a resource from a container\n",
      "Rename      rn          Common         Changes the name of a resource\n",
      "Reset       rs          Common         Sets a resource back to its original state\n",
      "Resize      rz          Common         Changes the size of a resource\n",
      "Search      sr          Common         Creates a reference to a resource in a container\n",
      "Select      sc          Common         Locates a resource in a container\n",
      "Set         s           Common         Replaces data on an existing resource or creates a resource…\n",
      "Show        sh          Common         Makes a resource visible to the user\n",
      "Skip        sk          Common         Bypasses one or more resources or points in a sequence\n",
      "Split       sl          Common         Separates parts of a resource\n",
      "Step        st          Common         Moves to the next point or resource in a sequence\n",
      "Switch      sw          Common         Specifies an action that alternates between two resources, …\n",
      "Undo        un          Common         Sets a resource to its previous state\n",
      "Unlock      uk          Common         Releases a resource that was locked\n",
      "Watch       wc          Common         Continually inspects or monitors a resource for changes\n",
      "Connect     cc          Communications Creates a link between a source and a destination\n",
      "Disconnect  dc          Communications Breaks the link between a source and a destination\n",
      "Read        rd          Communications Acquires information from a source\n",
      "Receive     rc          Communications Accepts information sent from a source\n",
      "Send        sd          Communications Delivers information to a destination\n",
      "Write       wr          Communications Adds information to a target\n",
      "Backup      ba          Data           Stores data by replicating it\n",
      "Checkpoint  ch          Data           Creates a snapshot of the current state of the data or of i…\n",
      "Compare     cr          Data           Evaluates the data from one resource against the data from …\n",
      "Compress    cm          Data           Compacts the data of a resource\n",
      "Convert     cv          Data           Changes the data from one representation to another when th…\n",
      "ConvertFrom cf          Data           Converts one primary type of input (the cmdlet noun indicat…\n",
      "ConvertTo   ct          Data           Converts from one or more types of input to a primary outpu…\n",
      "Dismount    dm          Data           Detaches a named entity from a location\n",
      "Edit        ed          Data           Modifies existing data by adding or removing content\n",
      "Expand      en          Data           Restores the data of a resource that has been compressed to…\n",
      "Export      ep          Data           Encapsulates the primary input into a persistent data store…\n",
      "Group       gp          Data           Arranges or associates one or more resources\n",
      "Import      ip          Data           Creates a resource from data that is stored in a persistent…\n",
      "Initialize  in          Data           Prepares a resource for use, and sets it to a default state\n",
      "Limit       l           Data           Applies constraints to a resource\n",
      "Merge       mg          Data           Creates a single resource from multiple resources\n",
      "Mount       mt          Data           Attaches a named entity to a location\n",
      "Out         o           Data           Sends data out of the environment\n",
      "Publish     pb          Data           Makes a resource available to others\n",
      "Restore     rr          Data           Sets a resource to a predefined state, such as a state set …\n",
      "Save        sv          Data           Preserves data to avoid loss\n",
      "Sync        sy          Data           Assures that two or more resources are in the same state\n",
      "Unpublish   ub          Data           Makes a resource unavailable to others\n",
      "Update      ud          Data           Brings a resource up-to-date to maintain its state, accurac…\n",
      "Debug       db          Diagnostic     Examines a resource to diagnose operational problems\n",
      "Measure     ms          Diagnostic     Identifies resources that are consumed by a specified opera…\n",
      "Ping        pi          Diagnostic     Use the Test verb\n",
      "Repair      rp          Diagnostic     Restores a resource to a usable condition\n",
      "Resolve     rv          Diagnostic     Maps a shorthand representation of a resource to a more com…\n",
      "Test        t           Diagnostic     Verifies the operation or consistency of a resource\n",
      "Trace       tr          Diagnostic     Tracks the activities of a resource\n",
      "Approve     ap          Lifecycle      Confirms or agrees to the status of a resource or process\n",
      "Assert      as          Lifecycle      Affirms the state of a resource\n",
      "Build       bd          Lifecycle      Creates an artifact (usually a binary or document) out of s…\n",
      "Complete    cmp         Lifecycle      Concludes an operation\n",
      "Confirm     cn          Lifecycle      Acknowledges, verifies, or validates the state of a resourc…\n",
      "Deny        dn          Lifecycle      Refuses, objects, blocks, or opposes the state of a resourc…\n",
      "Deploy      dp          Lifecycle      Sends an application, website, or solution to a remote targ…\n",
      "Disable     d           Lifecycle      Configures a resource to an unavailable or inactive state\n",
      "Enable      e           Lifecycle      Configures a resource to an available or active state\n",
      "Install     is          Lifecycle      Places a resource in a location, and optionally initializes…\n",
      "Invoke      i           Lifecycle      Performs an action, such as running a command or a method\n",
      "Register    rg          Lifecycle      Creates an entry for a resource in a repository such as a d…\n",
      "Request     rq          Lifecycle      Asks for a resource or asks for permissions\n",
      "Restart     rt          Lifecycle      Stops an operation and then starts it again\n",
      "Resume      ru          Lifecycle      Starts an operation that has been suspended\n",
      "Start       sa          Lifecycle      Initiates an operation\n",
      "Stop        sp          Lifecycle      Discontinues an activity\n",
      "Submit      sb          Lifecycle      Presents a resource for approval\n",
      "Suspend     ss          Lifecycle      Pauses an activity\n",
      "Uninstall   us          Lifecycle      Removes a resource from an indicated location\n",
      "Unregister  ur          Lifecycle      Removes the entry for a resource from a repository\n",
      "Wait        w           Lifecycle      Pauses an operation until a specified event occurs\n",
      "Use         u           Other          Uses or includes a resource to do something\n",
      "Block       bl          Security       Restricts access to a resource\n",
      "Grant       gr          Security       Allows access to a resource\n",
      "Protect     pt          Security       Safeguards a resource from attack or loss\n",
      "Revoke      rk          Security       Specifies an action that does not allow access to a resource\n",
      "Unblock     ul          Security       Removes restrictions to a resource\n",
      "Unprotect   up          Security       Removes safeguards from a resource that were added to preve…\n",
      "\n"
     ]
    }
   ],
   "source": [
    "Get-Verb"
   ]
  },
  {
   "cell_type": "code",
   "execution_count": 6,
   "metadata": {
    "dotnet_interactive": {
     "language": "pwsh"
    },
    "polyglot_notebook": {
     "kernelName": "pwsh"
    },
    "vscode": {
     "languageId": "polyglot-notebook"
    }
   },
   "outputs": [
    {
     "name": "stdout",
     "output_type": "stream",
     "text": [
      "\n",
      "\u001b[32;1m NPM(K)    PM(M)      WS(M)     CPU(s)      Id  SI ProcessName\u001b[0m\n",
      "\u001b[32;1m ------    -----      -----     ------      --  -- -----------\u001b[0m\n",
      "     23    12.71      34.23       0.12   10084   1 ApplicationFrameHost\n",
      "     13     2.93       3.51       0.02   13368   1 backgroundTaskHost\n",
      "     15     3.59      19.09       0.02   11320   1 ClockWidgets\n",
      "     14    70.65     130.65       0.72    2180   1 Code\n",
      "     14    37.21     103.98       0.30    3156   1 Code\n",
      "     13    19.82      74.22       0.08    4180   1 Code\n",
      "     53   453.30     487.86      11.75    5340   1 Code\n",
      "     33   118.92      87.29      19.03    6076   1 Code\n",
      "     18    12.81      38.94       0.03    6356   1 Code\n",
      "     17    55.01      98.55       2.19    7272   1 Code\n",
      "     27   230.25     264.03      16.91   11268   1 Code\n",
      "     14    18.94      78.05       0.12   11568   1 Code\n",
      "     14    21.21      79.31       0.06   11732   1 Code\n",
      "     12    10.46      27.56       0.00   12908   1 Code\n",
      "     17    24.94      73.49       0.12   13224   1 Code\n",
      "     14    22.18      80.04       0.09   13236   1 Code\n",
      "     14    93.33     149.05       5.06   13740   1 Code\n",
      "     40    41.25      97.21       1.73   13820   1 Code\n",
      "     14    37.66     104.12       0.39   13864   1 Code\n",
      "     20    46.62     108.58       3.09   14016   1 Code\n",
      "      7     5.06       9.23       0.00    3476   0 conhost\n",
      "      8     5.19      10.17       0.00    4388   1 conhost\n",
      "     11     5.85      13.81       0.00   10580   1 conhost\n",
      "      7     5.20      10.07       0.00   13156   1 conhost\n",
      "      8     5.20      10.19       0.00   13376   1 conhost\n",
      "      9     1.50       6.37       0.02   10412   1 crashpad_handler\n",
      "     29     2.63       6.61       0.00     728   1 csrss\n",
      "     22     2.06       5.89       0.00     940   0 csrss\n",
      "     21     7.45      27.68       0.17    8372   1 ctfmon\n",
      "     23     5.58      14.12       0.00    7640   1 dllhost\n",
      "      8     1.54       7.60       0.00    8176   1 dllhost\n",
      "     52    17.18      58.45       0.23    5576   1 dotnet\n",
      "     31    30.99      29.23       0.16    7152   1 dotnet\n",
      "    154   138.17     229.61       2.06    7596   1 dotnet\n",
      "     47    33.72      54.30       0.55   12420   1 dotnet\n",
      "     52    17.86      59.16       0.27   12864   1 dotnet\n",
      "     66   140.02      96.05       0.00    1544   1 dwm\n",
      "      9     1.56       7.38       0.00    4256   0 Everything\n",
      "    133   198.64     280.57      14.28    3896   1 explorer\n",
      "     35    37.76      60.54       0.09   11968   1 explorer\n",
      "      6     1.42       3.59       0.00    1220   0 fontdrvhost\n",
      "      8     3.54       7.94       0.00    1448   1 fontdrvhost\n",
      "     14    14.66      19.67       0.00   10328   1 GoogleDriveFS\n",
      "    186    51.45      92.55       2.12   10452   1 GoogleDriveFS\n",
      "     30    70.42      67.86       0.92   10536   1 GoogleDriveFS\n",
      "     15    12.01      23.20       0.02   10652   1 GoogleDriveFS\n",
      "     18    13.50      30.79       0.00   10672   1 GoogleDriveFS\n",
      "     21    32.92      68.04       0.27   10744   1 GoogleDriveFS\n",
      "     20    37.96      77.85      74.39   11900   1 GoogleDriveFS\n",
      "     17    17.18      39.86       0.03   12824   1 GoogleDriveFS\n",
      "      0     0.06       0.01       0.00       0   0 Idle\n",
      "     10     1.84       9.40       0.00    3068   0 igfxCUIService\n",
      "     14     3.33      13.97       0.06   11212   1 igfxEM\n",
      "      9     1.43       7.67       0.00    1088   0 IntelCpHDCPSvc\n",
      "      8     1.43       7.32       0.00    2192   0 IntelCpHeciSvc\n",
      "      9     1.27       6.78       0.00    4640   0 jhi_service\n",
      "     26     7.56      23.30       0.00    1060   0 lsass\n",
      "      0     0.04       0.00       0.00    3028   0 Memory Compression\n",
      "     19    19.79      46.33       0.11    1596   1 msedge\n",
      "     23    86.29     125.73       5.92    1760   1 msedge\n",
      "     20    43.12      81.16       0.42    2436   1 msedge\n",
      "     20    19.54      49.40       0.12    4940   1 msedge\n",
      "     15     6.93      19.96       0.59    5184   1 msedge\n",
      "     34   287.11     319.73      14.17    5244   1 msedge\n",
      "     15     7.67      22.70       0.00    5820   1 msedge\n",
      "     26    97.22     154.64       2.17    6924   1 msedge\n",
      "     33   253.61     314.50       7.55    6972   1 msedge\n",
      "     17    14.73      27.82       0.00    7788   1 msedge\n",
      "     19    20.41      54.74       0.06    8248   1 msedge\n",
      "     18    17.24      40.51       0.14    8568   1 msedge\n",
      "    117   164.18     287.52      15.72    8776   1 msedge\n",
      "     10     2.08       8.12       0.02    8848   1 msedge\n",
      "     50   155.12     139.78      34.09    9036   1 msedge\n",
      "     70    21.37      45.48       1.67    9060   1 msedge\n",
      "     14     6.96      18.71       0.03    9084   1 msedge\n",
      "     21    30.25      65.51       0.50    9244   1 msedge\n",
      "     27    41.62      96.05       1.03    9348   1 msedge\n",
      "     19    21.20      48.75       0.14    9468   1 msedge\n",
      "     20    38.99      73.68       0.33    9572   1 msedge\n",
      "     21    29.17      49.84       0.08    9952   1 msedge\n",
      "     23    53.64     100.09       1.58   11452   1 msedge\n",
      "     28   159.94     220.29       2.77   12360   1 msedge\n",
      "     21    67.05     112.13       0.38   14452   1 msedge\n",
      "     21    43.62      71.12       3.19   14544   1 msedge\n",
      "     33   252.87     354.72       2.38   14676   1 msedge\n",
      "     12     8.89      20.20       0.05   15064   1 msedge\n",
      "     26   125.70     167.05       0.77   15128   1 msedge\n",
      "     12     6.64      16.87       0.03   15312   1 msedge\n",
      "     16     9.21       1.47       0.11     812   1 msedgewebview2\n",
      "     12     7.80       0.00       0.02    1328   1 msedgewebview2\n",
      "     45    31.23       5.68       0.84    1844   1 msedgewebview2\n",
      "     29    69.36       3.82       4.20    9256   1 msedgewebview2\n",
      "     10     1.98       7.94       0.02    9596   1 msedgewebview2\n",
      "     23   105.14       1.49       5.25   11668   1 msedgewebview2\n",
      "    111   343.25     307.78       0.00    4316   0 MsMpEng\n",
      "     12     4.02      11.89       0.00    6096   0 NisSrv\n",
      "     17     4.72      18.76       0.00    2500   0 NVDisplay.Container\n",
      "     34    32.25      52.07       0.00    3180   1 NVDisplay.Container\n",
      "     31    37.52      54.16       0.00    4248   0 OneApp.IGCC.WinService\n",
      "     11     2.09       9.31       0.00    7724   1 OpenConsole\n",
      "     11     2.08       9.24       0.00   12128   1 OpenConsole\n",
      "     96    52.48     132.46       2.20    2868   1 pwsh\n",
      "     92    50.31     126.55       1.62   12136   1 pwsh\n",
      "     12    12.30      37.22       0.00     188   0 Registry\n",
      "     20     5.06      23.76       0.03    2764   1 RuntimeBroker\n",
      "     16     6.70      22.84       0.05    5052   1 RuntimeBroker\n",
      "     19     5.62      24.30       0.03    6296   1 RuntimeBroker\n",
      "     20     5.75      27.00       0.09    6372   1 RuntimeBroker\n",
      "     10     2.00      10.72       0.03   12220   1 RuntimeBroker\n",
      "     83   100.47     148.39       0.34    7060   1 SearchHost\n",
      "     19    10.76      22.94       0.00    2144   0 SearchIndexer\n",
      "     10     1.90       8.59       0.00    7864   1 SearchProtocolHost\n",
      "     19     6.80      18.12       0.00    8668   0 SecurityHealthService\n",
      "     11     2.02      12.53       0.00    8648   1 SecurityHealthSystray\n",
      "     13     5.13      10.52       0.00    1036   0 services\n",
      "     40    45.98      48.64       0.22    3500   1 ShellExperienceHost\n",
      "     18     5.35      27.85       0.22    5548   1 sihost\n",
      "      3     1.08       1.23       0.00     668   0 smss\n",
      "     22     9.43      17.04       0.00    3936   0 spoolsv\n",
      "     44    66.83     104.57       0.94    7084   1 StartMenuExperienceHost\n",
      "     25     8.10      26.25       0.00    1192   0 svchost\n",
      "     12     3.22      14.77       0.00    1204   0 svchost\n",
      "     18     6.22      13.96       0.00    1284   0 svchost\n",
      "      7     1.53       6.11       0.00    1300   0 svchost\n",
      "     12     3.14      12.33       0.00    1340   0 svchost\n",
      "     11     2.43       8.48       0.00    1344   0 svchost\n",
      "     27     5.55      22.42       0.00    1456   0 svchost\n",
      "     25     3.45      12.86       0.00    1584   0 svchost\n",
      "     10     2.29      11.01       0.00    1624   0 svchost\n",
      "     13     3.57      17.79       0.00    1636   0 svchost\n",
      "     10     1.44       5.77       0.00    1644   0 svchost\n",
      "     12     2.61      12.25       0.00    1648   0 svchost\n",
      "     14     1.79       8.18       0.00    1656   0 svchost\n",
      "     23     3.17      12.78       0.00    1664   0 svchost\n",
      "     20     5.81      16.35       0.00    1800   0 svchost\n",
      "      9     1.71       7.36       0.00    1808   0 svchost\n",
      "     13     2.73      10.64       0.00    1948   0 svchost\n",
      "     11     2.26      10.37       0.00    1956   0 svchost\n",
      "     10     1.86       9.58       0.00    1964   0 svchost\n",
      "     21     4.21       8.37       0.00    2068   0 svchost\n",
      "     20     5.42      16.39       0.00    2236   0 svchost\n",
      "     11     1.91       8.56       0.00    2264   0 svchost\n",
      "     10     1.73       9.73       0.00    2332   0 svchost\n",
      "     11     1.80      10.41       0.00    2448   0 svchost\n",
      "      9     1.62       7.02       0.00    2488   0 svchost\n",
      "     14     2.86       8.43       0.00    2620   0 svchost\n",
      "     14    16.05      20.33       0.00    2632   0 svchost\n",
      "      8     1.30       6.69       0.00    2672   0 svchost\n",
      "     21    10.66      23.57       0.00    2696   0 svchost\n",
      "      8     1.22       5.80       0.00    2716   0 svchost\n",
      "     12     2.49      11.74       0.00    2724   0 svchost\n",
      "      9     1.88       7.91       0.00    2732   0 svchost\n",
      "     10    12.77      20.80       0.00    2740   0 svchost\n",
      "     12     1.84       8.52       0.00    2932   0 svchost\n",
      "     12     6.57      13.52       0.00    2948   0 svchost\n",
      "     15     6.25      16.38       0.00    3256   0 svchost\n",
      "     13     2.97      13.29       0.00    3292   0 svchost\n",
      "      9     1.43       7.02       0.00    3324   0 svchost\n",
      "      9     1.71       7.00       0.00    3388   0 svchost\n",
      "     13     2.71      10.61       0.00    3396   0 svchost\n",
      "     11     2.22       7.99       0.00    3404   0 svchost\n",
      "     10     1.87       7.54       0.00    3636   0 svchost\n",
      "     22     5.86      19.61       0.00    3792   0 svchost\n",
      "     12     2.38      10.79       0.00    3860   0 svchost\n",
      "     32    10.41      20.52       0.00    3960   0 svchost\n",
      "     10     1.72       8.25       0.00    4024   0 svchost\n",
      "     20    17.30      23.50       0.00    4240   0 svchost\n",
      "     17     2.73      11.42       0.00    4264   0 svchost\n",
      "     18     4.13      18.19       0.00    4272   0 svchost\n",
      "      8     1.22       6.04       0.00    4304   0 svchost\n",
      "     12     2.25       9.49       0.00    4540   0 svchost\n",
      "     14     2.90      15.49       0.02    4724   1 svchost\n",
      "     18     7.07      26.29       0.16    4848   1 svchost\n",
      "      8     1.27       5.80       0.00    5044   0 svchost\n",
      "      9     1.93       8.99       0.02    5080   1 svchost\n",
      "     10     1.92       8.93       0.02    5268   1 svchost\n",
      "     12     2.38       9.02       0.00    5348   0 svchost\n",
      "     12     2.95      11.02       0.00    5504   0 svchost\n",
      "     13     2.74      12.66       0.00    5596   0 svchost\n",
      "      9     1.48       7.77       0.00    5724   0 svchost\n",
      "     13     2.32      11.60       0.00    5840   0 svchost\n",
      "     20     6.44      27.07       0.19    5892   1 svchost\n",
      "     18     5.48      17.72       0.00    6020   0 svchost\n",
      "     14     3.47      19.26       0.03    6536   1 svchost\n",
      "      8     1.43       6.68       0.00    6632   0 svchost\n",
      "     12     2.55      12.79       0.00    6644   0 svchost\n",
      "     11     2.55       9.66       0.00    6824   0 svchost\n",
      "      8     1.33       7.76       0.00    7260   1 svchost\n",
      "     42     1.63       7.49       0.00    7980   0 svchost\n",
      "     15     1.86       7.88       0.00    8124   0 svchost\n",
      "      9     1.60       9.43       0.00   10144   1 svchost\n",
      "     13     2.95      13.60       0.00   11616   0 svchost\n",
      "     23     3.34      13.47       0.00   11660   0 svchost\n",
      "     15     2.91      13.66       0.00   11804   1 svchost\n",
      "      9     1.64       7.34       0.00   13776   0 svchost\n",
      "      0     0.05       1.26       0.00       4   0 System\n",
      "     73   219.33     220.23       3.52    6332   1 SystemSettings\n",
      "     24     7.88      30.17       0.03   10400   1 SystemSettingsBroker\n",
      "     28     5.46      15.56       0.08    6484   1 taskhostw\n",
      "      8     2.39       6.11       0.00    4280   0 TeraCopyService\n",
      "     10     1.80       9.11       0.00    3816   1 UserOOBEBroker\n",
      "     34    10.71      49.08       0.44    5888   1 Widgets\n",
      "     21     7.38      28.70       0.28    5320   1 WidgetService\n",
      "     38    61.70      99.61       1.38   12004   1 WindowsTerminal\n",
      "     11     1.44       7.16       0.00     860   0 wininit\n",
      "     12     2.28      11.65       0.00    1388   1 winlogon\n",
      "      8     1.32       7.02       0.00    3320   0 wlanext\n",
      "     14     2.64      14.54       0.00    4288   0 WMIRegistrationService\n",
      "     11     1.84       8.52       0.00    2472   0 WUDFHost\n",
      "\n"
     ]
    }
   ],
   "source": [
    "Get-Process"
   ]
  },
  {
   "cell_type": "code",
   "execution_count": 8,
   "metadata": {
    "dotnet_interactive": {
     "language": "pwsh"
    },
    "polyglot_notebook": {
     "kernelName": "pwsh"
    },
    "vscode": {
     "languageId": "polyglot-notebook"
    }
   },
   "outputs": [
    {
     "name": "stdout",
     "output_type": "stream",
     "text": [
      "\u001b[31;1mGet-Service: \u001b[31;1mService 'McpManagementService (McpManagementService)' cannot be queried due to the following error: \u001b[0m\n",
      "\u001b[31;1mGet-Service: \u001b[31;1mService 'NPSMSvc_91a61 (NPSMSvc_91a61)' cannot be queried due to the following error: \u001b[0m\n",
      "\u001b[31;1mGet-Service: \u001b[31;1mService 'WaaSMedicSvc (WaaSMedicSvc)' cannot be queried due to the following error: \u001b[0m\n",
      "\n",
      "\u001b[32;1mName                           DisplayName                                                StartType\u001b[0m\n",
      "\u001b[32;1m----                           -----------                                                ---------\u001b[0m\n",
      "AudioEndpointBuilder           Windows Audio Endpoint Builder                             Automatic\n",
      "Audiosrv                       Windows Audio                                              Automatic\n",
      "BFE                            Base Filtering Engine                                      Automatic\n",
      "BrokerInfrastructure           Background Tasks Infrastructure Service                    Automatic\n",
      "cbdhsvc_91a61                  Clipboard User Service_91a61                               Automatic\n",
      "CDPSvc                         Connected Devices Platform Service                         Automatic\n",
      "CDPUserSvc_91a61               Connected Devices Platform User Service_91a61              Automatic\n",
      "CoreMessagingRegistrar         CoreMessaging                                              Automatic\n",
      "cplspcon                       Intel(R) Content Protection HDCP Service                   Automatic\n",
      "CryptSvc                       Cryptographic Services                                     Automatic\n",
      "DcomLaunch                     DCOM Server Process Launcher                               Automatic\n",
      "Dhcp                           DHCP Client                                                Automatic\n",
      "DispBrokerDesktopSvc           Display Policy Service                                     Automatic\n",
      "Dnscache                       DNS Client                                                 Automatic\n",
      "DoSvc                          Delivery Optimization                                      Automatic\n",
      "DPS                            Diagnostic Policy Service                                  Automatic\n",
      "DusmSvc                        Data Usage                                                 Automatic\n",
      "EventLog                       Windows Event Log                                          Automatic\n",
      "EventSystem                    COM+ Event System                                          Automatic\n",
      "Everything                     Everything                                                 Automatic\n",
      "FontCache                      Windows Font Cache Service                                 Automatic\n",
      "igccservice                    Intel(R) Graphics Command Center Service                   Automatic\n",
      "igfxCUIService2.0.0.0          Intel(R) HD Graphics Control Panel Service                 Automatic\n",
      "iphlpsvc                       IP Helper                                                  Automatic\n",
      "jhi_service                    Intel(R) Dynamic Application Loader Host Interface Service Automatic\n",
      "LanmanServer                   Server                                                     Automatic\n",
      "LanmanWorkstation              Workstation                                                Automatic\n",
      "LSM                            Local Session Manager                                      Automatic\n",
      "mpssvc                         Windows Defender Firewall                                  Automatic\n",
      "nsi                            Network Store Interface Service                            Automatic\n",
      "NVDisplay.ContainerLocalSystem NVIDIA Display Container LS                                Automatic\n",
      "OneSyncSvc_91a61               Sync Host_91a61                                            Automatic\n",
      "PcaSvc                         Program Compatibility Assistant Service                    Automatic\n",
      "Power                          Power                                                      Automatic\n",
      "ProfSvc                        User Profile Service                                       Automatic\n",
      "RpcEptMapper                   RPC Endpoint Mapper                                        Automatic\n",
      "RpcSs                          Remote Procedure Call (RPC)                                Automatic\n",
      "SamSs                          Security Accounts Manager                                  Automatic\n",
      "Schedule                       Task Scheduler                                             Automatic\n",
      "SENS                           System Event Notification Service                          Automatic\n",
      "ShellHWDetection               Shell Hardware Detection                                   Automatic\n",
      "Spooler                        Print Spooler                                              Automatic\n",
      "StateRepository                State Repository Service                                   Automatic\n",
      "StorSvc                        Storage Service                                            Automatic\n",
      "SysMain                        SysMain                                                    Automatic\n",
      "SystemEventsBroker             System Events Broker                                       Automatic\n",
      "TeraCopyService.exe            TeraCopy Service                                           Automatic\n",
      "TextInputManagementService     Text Input Management Service                              Automatic\n",
      "Themes                         Themes                                                     Automatic\n",
      "TrkWks                         Distributed Link Tracking Client                           Automatic\n",
      "UserManager                    User Manager                                               Automatic\n",
      "UsoSvc                         Update Orchestrator Service                                Automatic\n",
      "Wcmsvc                         Windows Connection Manager                                 Automatic\n",
      "webthreatdefusersvc_91a61      Web Threat Defense User Service_91a61                      Automatic\n",
      "WinDefend                      Microsoft Defender Antivirus Service                       Automatic\n",
      "Winmgmt                        Windows Management Instrumentation                         Automatic\n",
      "WlanSvc                        WLAN AutoConfig                                            Automatic\n",
      "WMIRegistrationService         Intel(R) Management Engine WMI Provider Registration       Automatic\n",
      "WpnService                     Windows Push Notifications System Service                  Automatic\n",
      "WpnUserService_91a61           Windows Push Notifications User Service_91a61              Automatic\n",
      "wscsvc                         Security Center                                            Automatic\n",
      "WSearch                        Windows Search                                             Automatic\n",
      "AppIDSvc                       Application Identity                                          Manual\n",
      "Appinfo                        Application Information                                       Manual\n",
      "BluetoothUserService_91a61     Bluetooth User Support Service_91a61                          Manual\n",
      "BTAGService                    Bluetooth Audio Gateway Service                               Manual\n",
      "BthAvctpSvc                    AVCTP service                                                 Manual\n",
      "bthserv                        Bluetooth Support Service                                     Manual\n",
      "camsvc                         Capability Access Manager Service                             Manual\n",
      "cphs                           Intel(R) Content Protection HECI Service                      Manual\n",
      "DeviceAssociationService       Device Association Service                                    Manual\n",
      "DevicesFlowUserSvc_91a61       DevicesFlow_91a61                                             Manual\n",
      "DisplayEnhancementService      Display Enhancement Service                                   Manual\n",
      "hidserv                        Human Interface Device Service                                Manual\n",
      "KeyIso                         CNG Key Isolation                                             Manual\n",
      "lfsvc                          Geolocation Service                                           Manual\n",
      "lmhosts                        TCP/IP NetBIOS Helper                                         Manual\n",
      "NcbService                     Network Connection Broker                                     Manual\n",
      "netprofm                       Network List Service                                          Manual\n",
      "NgcCtnrSvc                     Microsoft Passport Container                                  Manual\n",
      "NgcSvc                         Microsoft Passport                                            Manual\n",
      "NPSMSvc_91a61                  NPSMSvc_91a61                                                 Manual\n",
      "PlugPlay                       Plug and Play                                                 Manual\n",
      "RasMan                         Remote Access Connection Manager                              Manual\n",
      "RmSvc                          Radio Management Service                                      Manual\n",
      "SecurityHealthService          Windows Security Service                                      Manual\n",
      "SSDPSRV                        SSDP Discovery                                                Manual\n",
      "SstpSvc                        Secure Socket Tunneling Protocol Service                      Manual\n",
      "TimeBrokerSvc                  Time Broker                                                   Manual\n",
      "TokenBroker                    Web Account Manager                                           Manual\n",
      "UdkUserSvc_91a61               Udk User Service_91a61                                        Manual\n",
      "VaultSvc                       Credential Manager                                            Manual\n",
      "WaaSMedicSvc                   WaaSMedicSvc                                                  Manual\n",
      "WdiSystemHost                  Diagnostic System Host                                        Manual\n",
      "WdNisSvc                       Microsoft Defender Antivirus Network Inspection Service       Manual\n",
      "webthreatdefsvc                Web Threat Defense Service                                    Manual\n",
      "WinHttpAutoProxySvc            WinHTTP Web Proxy Auto-Discovery Service                      Manual\n",
      "\n"
     ]
    },
    {
     "ename": "Error",
     "evalue": "Command failed: SubmitCode: Get-Service | Where-Object -Property Status -EQ Ru ...",
     "output_type": "error",
     "traceback": [
      "Command failed: SubmitCode: Get-Service | Where-Object -Property Status -EQ Ru ..."
     ]
    }
   ],
   "source": [
    "Get-Service | Where-Object -Property Status -EQ Running | Select-Object Name, DisplayName, StartType | Sort-Object -Property StartType, Name"
   ]
  },
  {
   "cell_type": "code",
   "execution_count": 9,
   "metadata": {
    "dotnet_interactive": {
     "language": "pwsh"
    },
    "polyglot_notebook": {
     "kernelName": "pwsh"
    },
    "vscode": {
     "languageId": "polyglot-notebook"
    }
   },
   "outputs": [
    {
     "name": "stdout",
     "output_type": "stream",
     "text": [
      "\u001b[31;1mInvalidOperation: \u001b[31;1mCannot run a document in the middle of a pipeline: D:\\Powershell\\powershell-scripts\\Test.txt.\u001b[0m\r\n"
     ]
    },
    {
     "ename": "Error",
     "evalue": "Command failed: SubmitCode: .\\Test.txt | Rename-Item -NewName .\\Check.txt",
     "output_type": "error",
     "traceback": [
      "Command failed: SubmitCode: .\\Test.txt | Rename-Item -NewName .\\Check.txt"
     ]
    }
   ],
   "source": [
    ".\\Test.txt | Rename-Item -NewName .\\Check.txt"
   ]
  }
 ],
 "metadata": {
  "kernelspec": {
   "display_name": ".NET (PowerShell)",
   "language": "PowerShell",
   "name": ".net-pwsh"
  },
  "language_info": {
   "name": "PowerShell"
  }
 },
 "nbformat": 4,
 "nbformat_minor": 2
}
