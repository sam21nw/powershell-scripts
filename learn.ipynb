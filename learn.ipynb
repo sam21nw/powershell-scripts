{
 "cells": [
  {
   "cell_type": "code",
   "execution_count": 1,
   "metadata": {
    "dotnet_interactive": {
     "language": "pwsh"
    },
    "polyglot_notebook": {
     "kernelName": "pwsh"
    },
    "vscode": {
     "languageId": "polyglot-notebook"
    }
   },
   "outputs": [
    {
     "name": "stdout",
     "output_type": "stream",
     "text": [
      "The value of $PI is 3.14\r\n"
     ]
    }
   ],
   "source": [
    "$PI = 3.14\n",
    "Write-Host \"The value of `$PI is $PI\""
   ]
  },
  {
   "cell_type": "code",
   "execution_count": 2,
   "metadata": {
    "dotnet_interactive": {
     "language": "pwsh"
    },
    "polyglot_notebook": {
     "kernelName": "pwsh"
    },
    "vscode": {
     "languageId": "polyglot-notebook"
    }
   },
   "outputs": [
    {
     "name": "stdout",
     "output_type": "stream",
     "text": [
      "hi\r\n"
     ]
    }
   ],
   "source": [
    "$test = 'hi'\n",
    "Write-Host $test # Prints hi"
   ]
  },
  {
   "cell_type": "code",
   "execution_count": 3,
   "metadata": {
    "dotnet_interactive": {
     "language": "pwsh"
    },
    "polyglot_notebook": {
     "kernelName": "pwsh"
    },
    "vscode": {
     "languageId": "polyglot-notebook"
    }
   },
   "outputs": [
    {
     "name": "stdout",
     "output_type": "stream",
     "text": [
      "C:\\Users\\sam21\\.nuget\\packages\\microsoft.dotnet-interactive\\1.0.456201\\tools\\net7.0\\any\\runtimes\\win\\lib\\net7.0\r\n"
     ]
    }
   ],
   "source": [
    "$PSHOME"
   ]
  },
  {
   "cell_type": "code",
   "execution_count": 7,
   "metadata": {
    "dotnet_interactive": {
     "language": "pwsh"
    },
    "polyglot_notebook": {
     "kernelName": "pwsh"
    },
    "vscode": {
     "languageId": "polyglot-notebook"
    }
   },
   "outputs": [
    {
     "name": "stdout",
     "output_type": "stream",
     "text": [
      "\n",
      "\u001b[32;1mAllUsersCurrentHost\u001b[0m\n",
      "\u001b[32;1m-------------------                                                                                \u001b[0m\n",
      "C:\\Users\\sam21\\.nuget\\packages\\microsoft.dotnet-interactive\\1.0.456201\\tools\\net7.0\\any\\runtimes\\w…\n",
      "\n"
     ]
    }
   ],
   "source": [
    "$Profile | Select-Object *"
   ]
  }
 ],
 "metadata": {
  "language_info": {
   "name": "python"
  }
 },
 "nbformat": 4,
 "nbformat_minor": 2
}
