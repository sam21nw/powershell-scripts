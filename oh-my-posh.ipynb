{
 "cells": [
  {
   "cell_type": "code",
   "execution_count": null,
   "metadata": {
    "dotnet_interactive": {
     "language": "pwsh"
    },
    "vscode": {
     "languageId": "dotnet-interactive.pwsh"
    }
   },
   "outputs": [],
   "source": [
    "# Install oh-my-posh themes manually\n",
    "New-Item -Path \"$home\\Documents\\WindowsPowerShell\\Modules\\oh-my-posh\" -Name \"themes\" -ItemType Directory; Set-Location -Path \"$home\\Documents\\WindowsPowerShell\\Modules\\oh-my-posh\\themes\"; Invoke-WebRequest -UseBasicParsing -Uri https://api.github.com/repos/JanDeDobbeleer/oh-my-posh/contents/themes | Select-Object -ExpandProperty Content | ConvertFrom-Json | ForEach-Object {$_ | Select-Object -ExpandProperty name | Select-String -Pattern \".*.omp.json\"} | ForEach-Object {$_.toString().Replace(\".omp.json\", \"\")} | ForEach-Object {Invoke-WebRequest -Uri \"https://raw.githubusercontent.com/JanDeDobbeleer/oh-my-posh/main/themes/$_.omp.json\" -UseBasicParsing -OutFile \"$_.omp.json\"}"
   ]
  },
  {
   "cell_type": "code",
   "execution_count": null,
   "metadata": {
    "dotnet_interactive": {
     "language": "pwsh"
    },
    "vscode": {
     "languageId": "dotnet-interactive.pwsh"
    }
   },
   "outputs": [],
   "source": [
    "$Path = \"C:\\Users\\sam21\\Documents\\WindowsPowerShell\\Modules\\oh-my-posh\\themes\"\n",
    "$env:POSH_THEMES_PATH = \"$Path\""
   ]
  },
  {
   "cell_type": "code",
   "execution_count": null,
   "metadata": {
    "dotnet_interactive": {
     "language": "pwsh"
    },
    "vscode": {
     "languageId": "dotnet-interactive.pwsh"
    }
   },
   "outputs": [
    {
     "name": "stdout",
     "output_type": "stream",
     "text": [
      "C:\\Users\\sam21\\Documents\\WindowsPowerShell\\Modules\\oh-my-posh\\themes\r\n"
     ]
    }
   ],
   "source": [
    "echo $env:POSH_THEMES_PATH"
   ]
  }
 ],
 "metadata": {
  "kernelspec": {
   "display_name": ".NET (C#)",
   "language": "C#",
   "name": ".net-csharp"
  },
  "language_info": {
   "file_extension": ".cs",
   "mimetype": "text/x-csharp",
   "name": "C#",
   "pygments_lexer": "csharp",
   "version": "9.0"
  },
  "orig_nbformat": 4
 },
 "nbformat": 4,
 "nbformat_minor": 2
}
