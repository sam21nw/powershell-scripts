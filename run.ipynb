{
 "cells": [
  {
   "cell_type": "code",
   "execution_count": 1,
   "metadata": {
    "dotnet_interactive": {
     "language": "pwsh"
    },
    "polyglot_notebook": {
     "kernelName": "pwsh"
    },
    "vscode": {
     "languageId": "polyglot-notebook"
    }
   },
   "outputs": [
    {
     "name": "stdout",
     "output_type": "stream",
     "text": [
      "\u001b[31;1m&: \u001b[0m\n",
      "\u001b[31;1m\u001b[36;1mLine |\u001b[0m\n",
      "\u001b[31;1m\u001b[36;1m\u001b[36;1m   5 | \u001b[0m &\u001b[36;1m\"$ScriptRoute\"\u001b[0m\n",
      "\u001b[31;1m\u001b[36;1m\u001b[36;1m\u001b[0m\u001b[36;1m\u001b[0m\u001b[36;1m     | \u001b[31;1m  ~~~~~~~~~~~~~~\u001b[0m\n",
      "\u001b[31;1m\u001b[36;1m\u001b[36;1m\u001b[0m\u001b[36;1m\u001b[0m\u001b[36;1m\u001b[31;1m\u001b[31;1m\u001b[36;1m     | \u001b[31;1mFile D:\\Powershell\\powershell-scripts\\scripts\\weather-report.ps1 cannot be loaded. The file D:\\Powershell\\powershell-scripts\\scripts\\weather-report.ps1 is not digitally signed. You cannot run this script on the current system. For more information about running scripts and setting execution policy, see about_Execution_Policies at https://go.microsoft.com/fwlink/?LinkID=135170.\u001b[0m\n"
     ]
    }
   ],
   "source": [
    "# Get full path to the script:\n",
    "$ScriptRoute = [System.IO.Path]::GetFullPath([System.IO.Path]::Combine($PSScriptRoot, \"scripts/weather-report.ps1\"))\n",
    "\n",
    "# Execute script at location:\n",
    "&\"$ScriptRoute\""
   ]
  },
  {
   "cell_type": "code",
   "execution_count": 2,
   "metadata": {
    "dotnet_interactive": {
     "language": "pwsh"
    },
    "polyglot_notebook": {
     "kernelName": "pwsh"
    },
    "vscode": {
     "languageId": "polyglot-notebook"
    }
   },
   "outputs": [
    {
     "name": "stdout",
     "output_type": "stream",
     "text": [
      "\n",
      "\u001b[32;1m        Scope ExecutionPolicy\u001b[0m\n",
      "\u001b[32;1m        ----- ---------------\u001b[0m\n",
      "MachinePolicy       Undefined\n",
      "   UserPolicy       Undefined\n",
      "      Process          Bypass\n",
      "  CurrentUser    Unrestricted\n",
      " LocalMachine    RemoteSigned\n",
      "\n"
     ]
    }
   ],
   "source": [
    "Set-ExecutionPolicy -ExecutionPolicy Bypass -Scope Process\n",
    "Get-ExecutionPolicy -List"
   ]
  }
 ],
 "metadata": {
  "language_info": {
   "name": "python"
  }
 },
 "nbformat": 4,
 "nbformat_minor": 2
}
