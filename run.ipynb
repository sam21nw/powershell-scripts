{
 "cells": [
  {
   "cell_type": "code",
   "execution_count": 7,
   "metadata": {
    "dotnet_interactive": {
     "language": "pwsh"
    },
    "polyglot_notebook": {
     "kernelName": "pwsh"
    },
    "vscode": {
     "languageId": "polyglot-notebook"
    }
   },
   "outputs": [
    {
     "name": "stdout",
     "output_type": "stream",
     "text": [
      "⚠️ Error in line 19: \n",
      "Sorry, we are running out of queries to the weather service at the moment.\n",
      "Here is the weather report for the default city (just to show you what it looks like).\n",
      "We will get new queries as soon as possible.\n",
      "You can follow https://twitter.com/igor_chubin for the updates.\n",
      "======================================================================================\n",
      "\r\n"
     ]
    },
    {
     "ename": "Error",
     "evalue": "Command failed: SubmitCode: # Get full path to the script: ...",
     "output_type": "error",
     "traceback": [
      "Command failed: SubmitCode: # Get full path to the script: ..."
     ]
    }
   ],
   "source": [
    "# Get full path to the script:\n",
    "$ScriptRoute = [System.IO.Path]::GetFullPath([System.IO.Path]::Combine($PSScriptRoot, \"scripts/weather-report.ps1\"))\n",
    "\n",
    "# Execute script at location:\n",
    "&\"$ScriptRoute\""
   ]
  },
  {
   "cell_type": "code",
   "execution_count": 3,
   "metadata": {
    "dotnet_interactive": {
     "language": "pwsh"
    },
    "polyglot_notebook": {
     "kernelName": "pwsh"
    },
    "vscode": {
     "languageId": "polyglot-notebook"
    }
   },
   "outputs": [
    {
     "name": "stdout",
     "output_type": "stream",
     "text": [
      "\n",
      "\u001b[32;1m        Scope ExecutionPolicy\u001b[0m\n",
      "\u001b[32;1m        ----- ---------------\u001b[0m\n",
      "MachinePolicy       Undefined\n",
      "   UserPolicy       Undefined\n",
      "      Process          Bypass\n",
      "  CurrentUser       AllSigned\n",
      " LocalMachine    RemoteSigned\n",
      "\n"
     ]
    }
   ],
   "source": [
    "Set-ExecutionPolicy -ExecutionPolicy Bypass -Scope Process\n",
    "Get-ExecutionPolicy -List"
   ]
  }
 ],
 "metadata": {
  "language_info": {
   "name": "python"
  }
 },
 "nbformat": 4,
 "nbformat_minor": 2
}
