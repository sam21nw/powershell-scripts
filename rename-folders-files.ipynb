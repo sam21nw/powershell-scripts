{
 "cells": [
  {
   "cell_type": "code",
   "execution_count": 1,
   "metadata": {
    "dotnet_interactive": {
     "language": "pwsh"
    },
    "vscode": {
     "languageId": "polyglot-notebook"
    }
   },
   "outputs": [
    {
     "name": "stdout",
     "output_type": "stream",
     "text": [
      "\n",
      "    Directory: D:\\Powershell\\powershell-scripts\n",
      "\n",
      "\u001b[32;1mMode                 LastWriteTime         Length Name\u001b[0m\n",
      "\u001b[32;1m----                 -------------         ------ ----\u001b[0m\n",
      "-a---          11/20/2023 11:50 AM              2 Test.txt\n",
      "\n"
     ]
    }
   ],
   "source": [
    "# get child items in folder\n",
    "gci -Path '.\\*' -Include *.txt"
   ]
  },
  {
   "cell_type": "code",
   "execution_count": 2,
   "metadata": {
    "dotnet_interactive": {
     "language": "pwsh"
    },
    "vscode": {
     "languageId": "polyglot-notebook"
    }
   },
   "outputs": [
    {
     "name": "stdout",
     "output_type": "stream",
     "text": [
      "Rename Files and Folders.\r\n"
     ]
    }
   ],
   "source": [
    "# rename folders or files in a folder\n",
    "Write-Host \"Rename Files and Folders.\"\n",
    "Dir | Rename-Item -NewName {$_.name -replace \"Test\", \"Check\"}"
   ]
  },
  {
   "cell_type": "code",
   "execution_count": 3,
   "metadata": {
    "dotnet_interactive": {
     "language": "pwsh"
    },
    "polyglot_notebook": {
     "kernelName": "pwsh"
    },
    "vscode": {
     "languageId": "polyglot-notebook"
    }
   },
   "outputs": [
    {
     "name": "stdout",
     "output_type": "stream",
     "text": [
      "\n",
      "    Directory: D:\\Powershell\\powershell-scripts\n",
      "\n",
      "\u001b[32;1mMode                 LastWriteTime         Length Name\u001b[0m\n",
      "\u001b[32;1m----                 -------------         ------ ----\u001b[0m\n",
      "-a---          11/20/2023 11:50 AM              2 Check.txt\n",
      "-a---          11/15/2023  8:31 PM              0 \u001b[33;1mCreateFile.ps1\u001b[0m\n",
      "-a---          11/15/2023  8:31 PM           2370 learn.ipynb\n",
      "-a---          11/11/2023  8:55 PM           2006 oh-my-posh.ipynb\n",
      "-a---          11/20/2023 12:05 PM           1945 rename-folders-files.ipynb\n",
      "-a---          11/20/2023 12:02 PM          76003 useful_commands.ipynb\n",
      "\n"
     ]
    }
   ],
   "source": [
    "Dir"
   ]
  }
 ],
 "metadata": {
  "kernelspec": {
   "display_name": ".NET (C#)",
   "language": "C#",
   "name": ".net-csharp"
  },
  "language_info": {
   "file_extension": ".cs",
   "mimetype": "text/x-csharp",
   "name": "C#",
   "pygments_lexer": "csharp",
   "version": "9.0"
  },
  "orig_nbformat": 4
 },
 "nbformat": 4,
 "nbformat_minor": 2
}
